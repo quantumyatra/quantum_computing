{
 "cells": [
  {
   "cell_type": "markdown",
   "metadata": {},
   "source": [
    "# Quantum Fourier Transform "
   ]
  },
  {
   "cell_type": "markdown",
   "metadata": {},
   "source": [
    "### Theory"
   ]
  },
  {
   "cell_type": "markdown",
   "metadata": {},
   "source": [
    "QFT is defined as\n",
    "\n",
    "$ \\large{QFT:|x> = \\frac{1}{\\sqrt{N}}\\sum_{k=0}^{N-1} \\omega_{x}^{k}|k>}$\n",
    "\n",
    "where $\\omega_{x}^{k}$ is $N^{th}$ ($N = 2^{n}$) root of unity: $e^{\\frac{2\\pi i}{2^{n}}}$.\n",
    "\n",
    "- QFT: $F_{N} =  \\frac{1}{\\sqrt{N}} \\begin{bmatrix}\n",
    "    1  &         1   &        1       &     1          &   \\cdots   &  1   \\\\\n",
    "    1  &  \\omega_{n} & \\omega_{n}^{2} & \\omega_{n}^{3} &   \\cdots   & \\omega_{n} ^{N-1}\\\\\n",
    "    1  &  \\omega_{n}^{2} & \\omega_{n}^{4} & \\omega_{n}^{6} &   \\cdots   & \\omega_{n} ^{2(N-1)}\\\\\n",
    "    1  &  \\omega_{n}^{3} & \\omega_{n}^{6} & \\omega_{n}^{9} &   \\cdots   & \\omega_{n} ^{3(N-1)}\\\\\n",
    "   \\vdots  & \\vdots  & \\vdots         & \\vdots         &    \\dots   & \\vdots \\\\\n",
    "   1  &  \\omega_{n}^{(N-1)} & \\omega_{n}^{2(N-1)} & \\omega_{n}^{3(N-1)} &   \\cdots   & \\omega_{n} ^{(N-1((N-1)}\\\\\n",
    "\\end{bmatrix}$\n",
    "\n",
    "\n",
    "\n"
   ]
  },
  {
   "cell_type": "markdown",
   "metadata": {},
   "source": [
    "---------"
   ]
  },
  {
   "cell_type": "markdown",
   "metadata": {},
   "source": [
    "### Single qubit QFT\n",
    "\n",
    "For single qubit circuit ($n = 1, N = 2^{1} = 2)$\n",
    "\n",
    "\n",
    "$\\omega_n = e^{\\frac{2\\pi i}{2^{n}}} = -1$.\n",
    "\n",
    "QFT = $\\frac{1}{\\sqrt{2}} \\begin{bmatrix}\n",
    "    1  &   1 \\\\\n",
    "    1  &  -1\n",
    "\\end{bmatrix}$\n",
    "\n",
    "----------\n",
    "How is state |0> transformed ?\n",
    "\n",
    "$QFT|0> = \\frac{1}{\\sqrt{2}} \\begin{bmatrix}\n",
    "    1  &   1 \\\\\n",
    "    1  &  -1\n",
    "\\end{bmatrix} \\begin{bmatrix}\n",
    "    1   \\\\\n",
    "    0\n",
    "\\end{bmatrix} = \\frac{1}{\\sqrt{2}} \\begin{bmatrix}\n",
    "    1   \\\\\n",
    "    1\n",
    "\\end{bmatrix} = \\frac{1}{\\sqrt{2}} (|0> + |1>)$\n",
    "\n",
    "----------\n",
    "How is state |1> transformed ?\n",
    "\n",
    "$QFT|1> = \\frac{1}{\\sqrt{2}} \\begin{bmatrix}\n",
    "    1  &   1 \\\\\n",
    "    1  &  -1\n",
    "\\end{bmatrix} \\begin{bmatrix}\n",
    "    0   \\\\\n",
    "    1\n",
    "\\end{bmatrix} = \\frac{1}{\\sqrt{2}} \\begin{bmatrix}\n",
    "    1   \\\\\n",
    "    -1\n",
    "\\end{bmatrix} = \\frac{1}{\\sqrt{2}} (|0> - |1>)$\n",
    "\n",
    "---------------\n",
    "How is state $c_1|0> + c_2|1>$ transformed?\n",
    "\n",
    "$QFT(c_1|0> + c_2|1>) = \\frac{1}{\\sqrt{2}} \\begin{bmatrix}\n",
    "    1  &   1 \\\\\n",
    "    1  &  -1\n",
    "\\end{bmatrix} \\begin{bmatrix}\n",
    "    c_1   \\\\\n",
    "    c_2\n",
    "\\end{bmatrix} = \\frac{1}{\\sqrt{2}} \\begin{bmatrix}\n",
    "    c_1 + c_2   \\\\\n",
    "    c_2 - c1\n",
    "\\end{bmatrix} = \\frac{1}{\\sqrt{2}} ((c_1 + c_2)|0> - (c_2 - c1)|1>)$\n",
    "\n",
    "\n"
   ]
  },
  {
   "cell_type": "markdown",
   "metadata": {},
   "source": [
    "How to realize the quantum circuit?\n",
    "\n",
    "It is Hadamard gate !"
   ]
  },
  {
   "cell_type": "markdown",
   "metadata": {},
   "source": [
    "### Quantum Circuit - 1 qubit QFT"
   ]
  },
  {
   "cell_type": "code",
   "execution_count": 10,
   "metadata": {},
   "outputs": [],
   "source": [
    "%matplotlib inline\n",
    "# Importing standard Qiskit libraries and configuring account\n",
    "from qiskit import QuantumCircuit,QuantumRegister,ClassicalRegister, execute, Aer, IBMQ\n",
    "from qiskit.compiler import transpile, assemble\n",
    "from qiskit.tools.jupyter import *\n",
    "from qiskit.visualization import *"
   ]
  },
  {
   "cell_type": "code",
   "execution_count": 19,
   "metadata": {},
   "outputs": [],
   "source": [
    "def qft_1():\n",
    "    n=1\n",
    "    qc = QuantumCircuit()\n",
    "    q = QuantumRegister(n, 'q')\n",
    "    c = ClassicalRegister(n, 'c')\n",
    "\n",
    "    qc.add_register(q)\n",
    "    qc.add_register(c)\n",
    "\n",
    "    qc.h(q[0])\n",
    "    return qc,q,c"
   ]
  },
  {
   "cell_type": "code",
   "execution_count": 20,
   "metadata": {},
   "outputs": [
    {
     "data": {
      "image/png": "[encoded data removed]",
      "text/plain": [
       "<Figure size 361.2x138.46 with 1 Axes>"
      ]
     },
     "execution_count": 20,
     "metadata": {},
     "output_type": "execute_result"
    }
   ],
   "source": [
    "qc,q,c = qft_1()\n",
    "qc.measure(q[0], c[0])\n",
    "\n",
    "# Change the background color in mpl\n",
    "style = {'backgroundcolor': 'lightgreen'}\n",
    "qc.draw(output='mpl', style = style)"
   ]
  },
  {
   "cell_type": "code",
   "execution_count": 21,
   "metadata": {},
   "outputs": [
    {
     "data": {
      "image/png": "[encoded data removed]",
      "text/plain": [
       "<Figure size 504x360 with 1 Axes>"
      ]
     },
     "execution_count": 21,
     "metadata": {},
     "output_type": "execute_result"
    }
   ],
   "source": [
    "simulator = Aer.get_backend('qasm_simulator')\n",
    "result = execute(qc, simulator).result()\n",
    "counts = result.get_counts(qc)\n",
    "plot_histogram(counts, title='QFT counts')"
   ]
  },
  {
   "cell_type": "code",
   "execution_count": 23,
   "metadata": {},
   "outputs": [
    {
     "name": "stdout",
     "output_type": "stream",
     "text": [
      "[[ 0.70710678+0.j  0.70710678+0.j]\n",
      " [ 0.70710678+0.j -0.70710678+0.j]]\n"
     ]
    }
   ],
   "source": [
    "from qiskit.providers.aer import UnitarySimulator\n",
    "qc,q,c = qft_1()\n",
    "# Select the UnitarySimulator from the Aer provider\n",
    "simulator = Aer.get_backend('unitary_simulator')\n",
    "# Execute and get counts\n",
    "result = execute(qc, simulator).result()\n",
    "unitary = result.get_unitary(qc)\n",
    "print( unitary)"
   ]
  },
  {
   "cell_type": "markdown",
   "metadata": {},
   "source": [
    "### Two qubit QFT"
   ]
  },
  {
   "cell_type": "markdown",
   "metadata": {},
   "source": [
    "For two qubit circuit, ($n =2, N = 2^{2} = 4)$\n",
    "\n",
    "\n",
    "$\\omega_{n} = e^{\\frac{2\\pi i}{2^{n}}} = i$\n",
    "\n",
    "$QFT_2 = \\frac{1}{{2}} \\begin{bmatrix}\n",
    "    1  &   1  &  1  &   1\\\\\n",
    "    1  &   i  &  -1  &  -i\\\\\n",
    "    1  &   -1  &  1  &   -1\\\\\n",
    "    1  &  -i  &  -1  &  i\n",
    "\\end{bmatrix}$\n",
    "\n",
    "----------\n",
    "How is state |00> transformed ?\n",
    "\n",
    "$QFT_2|00> = \\frac{1}{{2}} \\begin{bmatrix}\n",
    "    1  &   1  &  1  &   1\\\\\n",
    "    1  &   i  &  -1  &  -i\\\\\n",
    "    1  &   -1  &  1  &   -1\\\\\n",
    "    1  &  -i  &  -1  &  i\n",
    "\\end{bmatrix} \\begin{bmatrix}\n",
    "    1   \\\\\n",
    "    0  \\\\\n",
    "    0  \\\\\n",
    "    0  \\\\\n",
    "\\end{bmatrix} = \\frac{1}{\\sqrt{2}} \\begin{bmatrix}\n",
    "    1   \\\\\n",
    "    1   \\\\\n",
    "    1  \\\\\n",
    "    1\n",
    "\\end{bmatrix} = \\frac{1}{{2}} (|00> + |10> + |01> + |11>)$\n",
    "\n",
    "\n",
    "---------------\n",
    "How is state $c_1|00> + c_2|10> + c_3 |01> + c_4 |11> $ transformed?\n",
    "\n",
    "$QFT_2|(c_1|00> + c_2|10> + c_3 |01> + c_4 |11>) = \\frac{1}{{2}} \\begin{bmatrix}\n",
    "    1  &   1  &  1  &   1\\\\\n",
    "    1  &   i  &  -1  &  -i\\\\\n",
    "    1  &   -1  &  1  &   -1\\\\\n",
    "    1  &  -i  &  -1  &  i\n",
    "\\end{bmatrix} \\begin{bmatrix}\n",
    "    c_1   \\\\\n",
    "    c_2  \\\\\n",
    "    c_3  \\\\\n",
    "    c_4  \\\\\n",
    "\\end{bmatrix} = \\frac{1}{{2}} \\begin{bmatrix}\n",
    "    c_1 +c_2 +c_3 +c_4   \\\\\n",
    "    c_1 +ic_2 -c_3 -ic_4   \\\\\n",
    "    c_1 -c_2 +c_3 -c_4  \\\\\n",
    "    c_1 -ic_2 -c_3 +ic_4\n",
    "\\end{bmatrix} = \\frac{1}{{2}} (d_1|00> + d_2|10> + d_3|01> + d_4|11>)$\n",
    "\n",
    "\n"
   ]
  },
  {
   "cell_type": "markdown",
   "metadata": {},
   "source": [
    "How to realize the quantum circuit?\n",
    "\n",
    "------------\n",
    "\n",
    "$H \\otimes I = \\frac{1}{\\sqrt{2}} \\begin{bmatrix}\n",
    "    1  &   1 \\\\\n",
    "    1  &  -1\n",
    "\\end{bmatrix} \\otimes \\begin{bmatrix}\n",
    "    1  &   0 \\\\\n",
    "    0  &   1\n",
    "\\end{bmatrix}  = \\frac{1}{\\sqrt{2}}\\begin{bmatrix}\n",
    "1 & 0 & 1 & 0\\\\\n",
    "0 & 1 & 0 & 1\\\\\n",
    "1 & 0 & -1 & 0 \\\\\n",
    "0 & 1 & 0 & -1\n",
    "\\end{bmatrix} $\n",
    "\n",
    "-----------\n",
    "$C_{u1} = \\begin{pmatrix}\n",
    "1 & 0 & 0 & 0\\\\\n",
    "0 & 1 & 0 & 0\\\\\n",
    "0 & 0 & 1 & 0\\\\\n",
    "0 & 0 & 0 & i\n",
    "\\end{pmatrix}$\n",
    "\n",
    "\n",
    "-------------\n",
    "\n",
    "$I \\otimes H = \\frac{1}{\\sqrt{2}} \\begin{bmatrix}\n",
    "    1  &   0 \\\\\n",
    "    0  &   1\n",
    "\\end{bmatrix} \\otimes \\begin{bmatrix}\n",
    "    1  &   1 \\\\\n",
    "    1  &  -1\n",
    "\\end{bmatrix}  = \\frac{1}{\\sqrt{2}}\\begin{bmatrix}\n",
    "1 & 1 & 0 & 0\\\\\n",
    "1 & -1 & 0 & 0\\\\\n",
    "0 & 0 & 1 & 1 \\\\\n",
    "0 & 0 & 1 & -1\n",
    "\\end{bmatrix} $\n",
    "\n",
    "-------------\n",
    "\n",
    "SWAP = $\\begin{pmatrix}\n",
    "1 & 0 & 0 & 0\\\\\n",
    "0 & 0 & 1 & 0\\\\\n",
    "0 & 1 & 0 & 0\\\\\n",
    "0 & 0 & 0 & 1\n",
    "\\end{pmatrix}$\n",
    "\n",
    "-----------\n",
    "\n",
    "$QFT_2 = (H \\otimes I) \\times C_{u1} \\times (I \\otimes H) \\times SWAP $\n",
    "\n",
    "$ = \\frac{1}{\\sqrt{2}}\\begin{pmatrix}\n",
    "1 & 0 & 1 & 0\\\\\n",
    "0 & 1 & 0 & 1\\\\\n",
    "1 & 0 & -1 & 0 \\\\\n",
    "0 & 1 & 0 & -1\n",
    "\\end{pmatrix}\\begin{pmatrix}\n",
    "1 & 0 & 0 & 0\\\\\n",
    "0 & 1 & 0 & 0\\\\\n",
    "0 & 0 & 1 & 0\\\\\n",
    "0 & 0 & 0 & i\n",
    "\\end{pmatrix}\\frac{1}{\\sqrt{2}}\\begin{pmatrix}\n",
    "1 & 1 & 0 & 0\\\\\n",
    "1 & -1 & 0 & 0\\\\\n",
    "0 & 0 & 1 & 1 \\\\\n",
    "0 & 0 & 1 & -1\n",
    "\\end{pmatrix} \\begin{pmatrix}\n",
    "1 & 0 & 0 & 0\\\\\n",
    "0 & 0 & 1 & 0\\\\\n",
    "0 & 1 & 0 & 0\\\\\n",
    "0 & 0 & 0 & 1\n",
    "\\end{pmatrix}$\n",
    "\n",
    "= $\\frac{1}{{2}} \\begin{pmatrix}\n",
    "    1  &   1  &  1  &   1\\\\\n",
    "    1  &   i  &  -1  &  -i\\\\\n",
    "    1  &   -1  &  1  &   -1\\\\\n",
    "    1  &  -i  &  -1  &  i\n",
    "\\end{pmatrix}$\n",
    "\n",
    "\n",
    "\n",
    "\n",
    "\n"
   ]
  },
  {
   "cell_type": "markdown",
   "metadata": {},
   "source": [
    "Numpy check:"
   ]
  },
  {
   "cell_type": "code",
   "execution_count": 46,
   "metadata": {},
   "outputs": [],
   "source": [
    "HI = np.array([[1,0,1,0],[0,1,0,1],[1,0,-1,0],[0,1,0,-1]])\n",
    "CU1 = np.array([[1,0,0,0],[0,1,0,0],[0,0,1,0],[0,0,0,0.+1.j]])\n",
    "IH = np.array([[1,1,0,0],[1,-1,0,0],[0,0,1,1],[0,0,1,-1]])\n",
    "SWAP = np.array([[1,0,0,0],[0,0,1,0],[0,1,0,0],[0,0,0,1]])"
   ]
  },
  {
   "cell_type": "code",
   "execution_count": 49,
   "metadata": {},
   "outputs": [
    {
     "data": {
      "text/plain": [
       "array([[ 1.+0.j,  1.+0.j,  1.+0.j,  1.+0.j],\n",
       "       [ 1.+0.j,  0.+1.j, -1.+0.j,  0.-1.j],\n",
       "       [ 1.+0.j, -1.+0.j,  1.+0.j, -1.+0.j],\n",
       "       [ 1.+0.j,  0.-1.j, -1.+0.j,  0.+1.j]])"
      ]
     },
     "execution_count": 49,
     "metadata": {},
     "output_type": "execute_result"
    }
   ],
   "source": [
    "np.dot(HI,np.dot(CU1,np.dot(IH,SWAP)))"
   ]
  },
  {
   "cell_type": "markdown",
   "metadata": {},
   "source": [
    "-  Quantum Circuit Reliazation"
   ]
  },
  {
   "cell_type": "code",
   "execution_count": 25,
   "metadata": {},
   "outputs": [],
   "source": [
    "import numpy as np"
   ]
  },
  {
   "cell_type": "code",
   "execution_count": 54,
   "metadata": {},
   "outputs": [],
   "source": [
    "def qft_2():\n",
    "    n=2\n",
    "    qc = QuantumCircuit()\n",
    "    q = QuantumRegister(n, 'q')\n",
    "    c = ClassicalRegister(n, 'c')\n",
    "\n",
    "    qc.add_register(q)\n",
    "    qc.add_register(c)\n",
    "\n",
    "    qc.h(q[1])\n",
    "    qc.cu1(np.pi / 2, q[0], q[1])\n",
    "    qc.h(q[0])\n",
    "    qc.swap(q[0], q[1])\n",
    "    return qc,q,c\n"
   ]
  },
  {
   "cell_type": "code",
   "execution_count": 56,
   "metadata": {},
   "outputs": [
    {
     "data": {
      "image/png": "[encoded data removed]",
      "text/plain": [
       "<Figure size 662.2x258.86 with 1 Axes>"
      ]
     },
     "execution_count": 56,
     "metadata": {},
     "output_type": "execute_result"
    }
   ],
   "source": [
    "qc,q,c = qft_2()\n",
    "\n",
    "qc.measure(q, c)\n",
    "# Change the background color in mpl\n",
    "style = {'backgroundcolor': 'lightgreen'}\n",
    "qc.draw(output='mpl', style = style)"
   ]
  },
  {
   "cell_type": "markdown",
   "metadata": {},
   "source": [
    "Manual approach:\n",
    "\n",
    "------------\n",
    "\n",
    "- Initial state: |00>\n",
    "- After Hadamard Gate on qubit 2 : $\\frac{1}{\\sqrt{2}}|00> + \\frac{1}{\\sqrt{2}}|01> $\n",
    "- After phase shift Gate : $\\frac{1}{\\sqrt{2}}|00> + \\frac{1}{\\sqrt{2}}|01> $\n",
    "- After Hadamard Gate on qubit 1 : $\\frac{1}{{2}}|00> + \\frac{1}{{2}}|10>  +  \\frac{1}{{2}}|01> - \\frac{1}{{2}}|11>$\n",
    "- After SWAP:  $\\frac{1}{{2}}|00> + \\frac{1}{{2}}|01>  +  \\frac{1}{{2}}|10> - \\frac{1}{{2}}|11>$\n"
   ]
  },
  {
   "cell_type": "markdown",
   "metadata": {},
   "source": [
    "- Simulation"
   ]
  },
  {
   "cell_type": "code",
   "execution_count": 57,
   "metadata": {},
   "outputs": [
    {
     "data": {
      "image/png": "[encoded data removed]",
      "text/plain": [
       "<Figure size 504x360 with 1 Axes>"
      ]
     },
     "execution_count": 57,
     "metadata": {},
     "output_type": "execute_result"
    }
   ],
   "source": [
    "simulator = Aer.get_backend('qasm_simulator')\n",
    "result = execute(qc, simulator).result()\n",
    "counts = result.get_counts(qc)\n",
    "plot_histogram(counts, title='QFT counts')"
   ]
  },
  {
   "cell_type": "markdown",
   "metadata": {},
   "source": [
    "- Unitary representation in product space"
   ]
  },
  {
   "cell_type": "code",
   "execution_count": 58,
   "metadata": {},
   "outputs": [
    {
     "name": "stdout",
     "output_type": "stream",
     "text": [
      "[[ 0.5+0.j   0.5+0.j   0.5+0.j   0.5+0.j ]\n",
      " [ 0.5+0.j   0. +0.5j -0.5+0.j   0. -0.5j]\n",
      " [ 0.5+0.j  -0.5+0.j   0.5+0.j  -0.5+0.j ]\n",
      " [ 0.5+0.j   0. -0.5j -0.5+0.j   0. +0.5j]]\n"
     ]
    }
   ],
   "source": [
    "from qiskit.providers.aer import UnitarySimulator\n",
    "qc,q,c = qft_2()\n",
    "# Select the UnitarySimulator from the Aer provider\n",
    "simulator = Aer.get_backend('unitary_simulator')\n",
    "# Execute and get counts\n",
    "result = execute(qc, simulator).result()\n",
    "unitary = result.get_unitary(qc)\n",
    "print( unitary)"
   ]
  },
  {
   "cell_type": "markdown",
   "metadata": {},
   "source": [
    "-----------"
   ]
  },
  {
   "cell_type": "markdown",
   "metadata": {},
   "source": [
    "### QFT -3 qubit"
   ]
  },
  {
   "cell_type": "code",
   "execution_count": 70,
   "metadata": {},
   "outputs": [],
   "source": [
    "def qft_3():\n",
    "    n = 3\n",
    "    qc = QuantumCircuit()\n",
    "    q = QuantumRegister(n, 'q')\n",
    "    c = ClassicalRegister(n, 'c')\n",
    "\n",
    "    qc.add_register(q)\n",
    "    qc.add_register(c)\n",
    "\n",
    "    qc.h(q[2])\n",
    "    qc.cu1(np.pi / 2, q[1], q[2])\n",
    "    qc.h(q[1])\n",
    "    qc.cu1(np.pi / 4, q[0], q[2])\n",
    "    qc.cu1(np.pi / 2, q[0], q[1])\n",
    "    qc.h(q[0])\n",
    "    \n",
    "    qc.swap(q[0], q[2])\n",
    "   \n",
    "    return qc,q,c"
   ]
  },
  {
   "cell_type": "code",
   "execution_count": 71,
   "metadata": {},
   "outputs": [
    {
     "data": {
      "image/png": "[encoded data removed]",
      "text/plain": [
       "<Figure size 903x379.26 with 1 Axes>"
      ]
     },
     "execution_count": 71,
     "metadata": {},
     "output_type": "execute_result"
    }
   ],
   "source": [
    "qc,q,c = qft_3()\n",
    "qc.measure(q,c)\n",
    "# Change the background color in mpl\n",
    "style = {'backgroundcolor': 'lightgreen'}\n",
    "qc.draw(output='mpl', style = style)"
   ]
  },
  {
   "cell_type": "markdown",
   "metadata": {},
   "source": [
    "Manual Approach:\n",
    "\n",
    "- Initial state: |000>\n",
    "- After Hadamard Gate on 3rd qubit : $\\frac{1}{\\sqrt{2}}(|000> + |001>) $\n",
    "- After CU1 gate on qubit (2,3) : $\\frac{1}{\\sqrt{2}}(|000> + |001>) $\n",
    "- After CU1 gate on qubit (1,3) : $\\frac{1}{\\sqrt{2}}(|000> + |001>) $\n",
    "- After Hadamard Gate on qubit 2 : $\\frac{1}{{2}}(|000> + |010> +  |001> -|011> )$\n",
    "- After CU1 gate on qubit (0,1): $\\frac{1}{{2}}(|000> + |010> +  |001> -|011> )$\n",
    "- After Hadamard Gate on qubit 3 : $\\frac{1}{2\\sqrt{2}}(|000> + |001> +  |010> + |011> +  |000> - |001> - |010> + |011)$"
   ]
  },
  {
   "cell_type": "code",
   "execution_count": 72,
   "metadata": {},
   "outputs": [
    {
     "data": {
      "image/png": "[encoded data removed]",
      "text/plain": [
       "<Figure size 504x360 with 1 Axes>"
      ]
     },
     "execution_count": 72,
     "metadata": {},
     "output_type": "execute_result"
    }
   ],
   "source": [
    "simulator = Aer.get_backend('qasm_simulator')\n",
    "result = execute(qc, simulator).result()\n",
    "counts = result.get_counts(qc)\n",
    "plot_histogram(counts, title='QFT counts')"
   ]
  },
  {
   "cell_type": "code",
   "execution_count": 68,
   "metadata": {},
   "outputs": [
    {
     "name": "stdout",
     "output_type": "stream",
     "text": [
      "[[ 0.35355339+0.j          0.35355339+0.j          0.35355339+0.j\n",
      "   0.35355339+0.j          0.35355339+0.j          0.35355339+0.j\n",
      "   0.35355339+0.j          0.35355339+0.j        ]\n",
      " [ 0.35355339+0.j          0.25      +0.25j        0.        +0.35355339j\n",
      "  -0.25      +0.25j       -0.35355339+0.j         -0.25      -0.25j\n",
      "   0.        -0.35355339j  0.25      -0.25j      ]\n",
      " [ 0.35355339+0.j          0.        +0.35355339j -0.35355339+0.j\n",
      "   0.        -0.35355339j  0.35355339+0.j          0.        +0.35355339j\n",
      "  -0.35355339+0.j          0.        -0.35355339j]\n",
      " [ 0.35355339+0.j         -0.25      +0.25j        0.        -0.35355339j\n",
      "   0.25      +0.25j       -0.35355339+0.j          0.25      -0.25j\n",
      "   0.        +0.35355339j -0.25      -0.25j      ]\n",
      " [ 0.35355339+0.j         -0.35355339+0.j          0.35355339+0.j\n",
      "  -0.35355339+0.j          0.35355339+0.j         -0.35355339+0.j\n",
      "   0.35355339+0.j         -0.35355339+0.j        ]\n",
      " [ 0.35355339+0.j         -0.25      -0.25j        0.        +0.35355339j\n",
      "   0.25      -0.25j       -0.35355339+0.j          0.25      +0.25j\n",
      "   0.        -0.35355339j -0.25      +0.25j      ]\n",
      " [ 0.35355339+0.j          0.        -0.35355339j -0.35355339+0.j\n",
      "   0.        +0.35355339j  0.35355339+0.j          0.        -0.35355339j\n",
      "  -0.35355339+0.j          0.        +0.35355339j]\n",
      " [ 0.35355339+0.j          0.25      -0.25j        0.        -0.35355339j\n",
      "  -0.25      -0.25j       -0.35355339+0.j         -0.25      +0.25j\n",
      "   0.        +0.35355339j  0.25      +0.25j      ]]\n"
     ]
    }
   ],
   "source": [
    "from qiskit.providers.aer import UnitarySimulator\n",
    "qc,q,c = qft_3()\n",
    "# Select the UnitarySimulator from the Aer provider\n",
    "simulator = Aer.get_backend('unitary_simulator')\n",
    "# Execute and get counts\n",
    "result = execute(qc, simulator).result()\n",
    "unitary = result.get_unitary(qc)\n",
    "print( unitary)"
   ]
  },
  {
   "cell_type": "markdown",
   "metadata": {},
   "source": [
    "### QFT - 4 qubit"
   ]
  },
  {
   "cell_type": "code",
   "execution_count": 61,
   "metadata": {},
   "outputs": [],
   "source": [
    "def qft_4():\n",
    "    n = 4\n",
    "    qc = QuantumCircuit()\n",
    "    q = QuantumRegister(n, 'q')\n",
    "    c = ClassicalRegister(n, 'c')\n",
    "\n",
    "    qc.add_register(q)\n",
    "    qc.add_register(c)\n",
    "\n",
    "    qc.h(q[3])\n",
    "    qc.cu1(np.pi / 2, q[2], q[3])\n",
    "    qc.h(q[2])\n",
    "    qc.cu1(np.pi / 4, q[1], q[3])\n",
    "    qc.cu1(np.pi / 2, q[1], q[2])\n",
    "    qc.h(q[1])\n",
    "    qc.cu1(np.pi / 8, q[0], q[3])\n",
    "    qc.cu1(np.pi / 4, q[0], q[2])\n",
    "    qc.cu1(np.pi / 2, q[0], q[1])\n",
    "    qc.h(q[0])\n",
    "    qc.swap(q[0], q[3])\n",
    "    qc.swap(q[1], q[2])\n",
    "    \n",
    "    \n",
    "    return qc,q,c"
   ]
  },
  {
   "cell_type": "code",
   "execution_count": 62,
   "metadata": {},
   "outputs": [
    {
     "data": {
      "image/png": "[encoded data removed]",
      "text/plain": [
       "<Figure size 1324.4x499.66 with 1 Axes>"
      ]
     },
     "execution_count": 62,
     "metadata": {},
     "output_type": "execute_result"
    }
   ],
   "source": [
    "qc,q,c = qft_4()\n",
    "qc.measure(q,c)\n",
    "# Change the background color in mpl\n",
    "style = {'backgroundcolor': 'lightgreen'}\n",
    "qc.draw(output='mpl', style = style)"
   ]
  },
  {
   "cell_type": "markdown",
   "metadata": {},
   "source": []
  },
  {
   "cell_type": "code",
   "execution_count": 18,
   "metadata": {},
   "outputs": [
    {
     "data": {
      "image/png": "[encoded data removed]",
      "text/plain": [
       "<Figure size 504x360 with 1 Axes>"
      ]
     },
     "execution_count": 18,
     "metadata": {},
     "output_type": "execute_result"
    }
   ],
   "source": [
    "simulator = Aer.get_backend('qasm_simulator')\n",
    "result = execute(qc, simulator).result()\n",
    "counts = result.get_counts(qc)\n",
    "plot_histogram(counts, title='QFT counts')"
   ]
  },
  {
   "cell_type": "markdown",
   "metadata": {},
   "source": [
    "- Generate the Unitary matrix"
   ]
  },
  {
   "cell_type": "code",
   "execution_count": 1,
   "metadata": {},
   "outputs": [],
   "source": [
    "import numpy as np\n",
    "from qiskit import QuantumCircuit, QuantumRegister, ClassicalRegister\n",
    "from qiskit import Aer, execute\n",
    "from qiskit.providers.aer import UnitarySimulator"
   ]
  },
  {
   "cell_type": "code",
   "execution_count": 4,
   "metadata": {
    "scrolled": false
   },
   "outputs": [
    {
     "name": "stdout",
     "output_type": "stream",
     "text": [
      "[[ 0.25      +0.j          0.25      +0.j          0.25      +0.j\n",
      "   0.25      +0.j          0.25      +0.j          0.25      +0.j\n",
      "   0.25      +0.j          0.25      +0.j          0.25      +0.j\n",
      "   0.25      +0.j          0.25      +0.j          0.25      +0.j\n",
      "   0.25      +0.j          0.25      +0.j          0.25      +0.j\n",
      "   0.25      +0.j        ]\n",
      " [ 0.25      +0.j          0.23096988+0.09567086j  0.1767767 +0.1767767j\n",
      "   0.09567086+0.23096988j  0.        +0.25j       -0.09567086+0.23096988j\n",
      "  -0.1767767 +0.1767767j  -0.23096988+0.09567086j -0.25      +0.j\n",
      "  -0.23096988-0.09567086j -0.1767767 -0.1767767j  -0.09567086-0.23096988j\n",
      "   0.        -0.25j        0.09567086-0.23096988j  0.1767767 -0.1767767j\n",
      "   0.23096988-0.09567086j]\n",
      " [ 0.25      +0.j          0.1767767 +0.1767767j   0.        +0.25j\n",
      "  -0.1767767 +0.1767767j  -0.25      +0.j         -0.1767767 -0.1767767j\n",
      "   0.        -0.25j        0.1767767 -0.1767767j   0.25      +0.j\n",
      "   0.1767767 +0.1767767j   0.        +0.25j       -0.1767767 +0.1767767j\n",
      "  -0.25      +0.j         -0.1767767 -0.1767767j   0.        -0.25j\n",
      "   0.1767767 -0.1767767j ]\n",
      " [ 0.25      +0.j          0.09567086+0.23096988j -0.1767767 +0.1767767j\n",
      "  -0.23096988-0.09567086j  0.        -0.25j        0.23096988-0.09567086j\n",
      "   0.1767767 +0.1767767j  -0.09567086+0.23096988j -0.25      +0.j\n",
      "  -0.09567086-0.23096988j  0.1767767 -0.1767767j   0.23096988+0.09567086j\n",
      "   0.        +0.25j       -0.23096988+0.09567086j -0.1767767 -0.1767767j\n",
      "   0.09567086-0.23096988j]\n",
      " [ 0.25      +0.j          0.        +0.25j       -0.25      +0.j\n",
      "   0.        -0.25j        0.25      +0.j          0.        +0.25j\n",
      "  -0.25      +0.j          0.        -0.25j        0.25      +0.j\n",
      "   0.        +0.25j       -0.25      +0.j          0.        -0.25j\n",
      "   0.25      +0.j          0.        +0.25j       -0.25      +0.j\n",
      "   0.        -0.25j      ]\n",
      " [ 0.25      +0.j         -0.09567086+0.23096988j -0.1767767 -0.1767767j\n",
      "   0.23096988-0.09567086j  0.        +0.25j       -0.23096988-0.09567086j\n",
      "   0.1767767 -0.1767767j   0.09567086+0.23096988j -0.25      +0.j\n",
      "   0.09567086-0.23096988j  0.1767767 +0.1767767j  -0.23096988+0.09567086j\n",
      "   0.        -0.25j        0.23096988+0.09567086j -0.1767767 +0.1767767j\n",
      "  -0.09567086-0.23096988j]\n",
      " [ 0.25      +0.j         -0.1767767 +0.1767767j   0.        -0.25j\n",
      "   0.1767767 +0.1767767j  -0.25      +0.j          0.1767767 -0.1767767j\n",
      "   0.        +0.25j       -0.1767767 -0.1767767j   0.25      +0.j\n",
      "  -0.1767767 +0.1767767j   0.        -0.25j        0.1767767 +0.1767767j\n",
      "  -0.25      +0.j          0.1767767 -0.1767767j   0.        +0.25j\n",
      "  -0.1767767 -0.1767767j ]\n",
      " [ 0.25      +0.j         -0.23096988+0.09567086j  0.1767767 -0.1767767j\n",
      "  -0.09567086+0.23096988j  0.        -0.25j        0.09567086+0.23096988j\n",
      "  -0.1767767 -0.1767767j   0.23096988+0.09567086j -0.25      +0.j\n",
      "   0.23096988-0.09567086j -0.1767767 +0.1767767j   0.09567086-0.23096988j\n",
      "   0.        +0.25j       -0.09567086-0.23096988j  0.1767767 +0.1767767j\n",
      "  -0.23096988-0.09567086j]\n",
      " [ 0.25      +0.j         -0.25      +0.j          0.25      +0.j\n",
      "  -0.25      +0.j          0.25      +0.j         -0.25      +0.j\n",
      "   0.25      +0.j         -0.25      +0.j          0.25      +0.j\n",
      "  -0.25      +0.j          0.25      +0.j         -0.25      +0.j\n",
      "   0.25      +0.j         -0.25      +0.j          0.25      +0.j\n",
      "  -0.25      +0.j        ]\n",
      " [ 0.25      +0.j         -0.23096988-0.09567086j  0.1767767 +0.1767767j\n",
      "  -0.09567086-0.23096988j  0.        +0.25j        0.09567086-0.23096988j\n",
      "  -0.1767767 +0.1767767j   0.23096988-0.09567086j -0.25      +0.j\n",
      "   0.23096988+0.09567086j -0.1767767 -0.1767767j   0.09567086+0.23096988j\n",
      "   0.        -0.25j       -0.09567086+0.23096988j  0.1767767 -0.1767767j\n",
      "  -0.23096988+0.09567086j]\n",
      " [ 0.25      +0.j         -0.1767767 -0.1767767j   0.        +0.25j\n",
      "   0.1767767 -0.1767767j  -0.25      +0.j          0.1767767 +0.1767767j\n",
      "   0.        -0.25j       -0.1767767 +0.1767767j   0.25      +0.j\n",
      "  -0.1767767 -0.1767767j   0.        +0.25j        0.1767767 -0.1767767j\n",
      "  -0.25      +0.j          0.1767767 +0.1767767j   0.        -0.25j\n",
      "  -0.1767767 +0.1767767j ]\n",
      " [ 0.25      +0.j         -0.09567086-0.23096988j -0.1767767 +0.1767767j\n",
      "   0.23096988+0.09567086j  0.        -0.25j       -0.23096988+0.09567086j\n",
      "   0.1767767 +0.1767767j   0.09567086-0.23096988j -0.25      +0.j\n",
      "   0.09567086+0.23096988j  0.1767767 -0.1767767j  -0.23096988-0.09567086j\n",
      "   0.        +0.25j        0.23096988-0.09567086j -0.1767767 -0.1767767j\n",
      "  -0.09567086+0.23096988j]\n",
      " [ 0.25      +0.j          0.        -0.25j       -0.25      +0.j\n",
      "   0.        +0.25j        0.25      +0.j          0.        -0.25j\n",
      "  -0.25      +0.j          0.        +0.25j        0.25      +0.j\n",
      "   0.        -0.25j       -0.25      +0.j          0.        +0.25j\n",
      "   0.25      +0.j          0.        -0.25j       -0.25      +0.j\n",
      "   0.        +0.25j      ]\n",
      " [ 0.25      +0.j          0.09567086-0.23096988j -0.1767767 -0.1767767j\n",
      "  -0.23096988+0.09567086j  0.        +0.25j        0.23096988+0.09567086j\n",
      "   0.1767767 -0.1767767j  -0.09567086-0.23096988j -0.25      +0.j\n",
      "  -0.09567086+0.23096988j  0.1767767 +0.1767767j   0.23096988-0.09567086j\n",
      "   0.        -0.25j       -0.23096988-0.09567086j -0.1767767 +0.1767767j\n",
      "   0.09567086+0.23096988j]\n",
      " [ 0.25      +0.j          0.1767767 -0.1767767j   0.        -0.25j\n",
      "  -0.1767767 -0.1767767j  -0.25      +0.j         -0.1767767 +0.1767767j\n",
      "   0.        +0.25j        0.1767767 +0.1767767j   0.25      +0.j\n",
      "   0.1767767 -0.1767767j   0.        -0.25j       -0.1767767 -0.1767767j\n",
      "  -0.25      +0.j         -0.1767767 +0.1767767j   0.        +0.25j\n",
      "   0.1767767 +0.1767767j ]\n",
      " [ 0.25      +0.j          0.23096988-0.09567086j  0.1767767 -0.1767767j\n",
      "   0.09567086-0.23096988j  0.        -0.25j       -0.09567086-0.23096988j\n",
      "  -0.1767767 -0.1767767j  -0.23096988-0.09567086j -0.25      +0.j\n",
      "  -0.23096988+0.09567086j -0.1767767 +0.1767767j  -0.09567086+0.23096988j\n",
      "   0.        +0.25j        0.09567086+0.23096988j  0.1767767 +0.1767767j\n",
      "   0.23096988+0.09567086j]]\n"
     ]
    }
   ],
   "source": [
    "qc = qft_circuit(4)    \n",
    "# Select the UnitarySimulator from the Aer provider\n",
    "simulator = Aer.get_backend('unitary_simulator')\n",
    "# Execute and get counts\n",
    "result = execute(qc, simulator).result()\n",
    "unitary = result.get_unitary(qc)\n",
    "print( unitary)"
   ]
  },
  {
   "cell_type": "markdown",
   "metadata": {},
   "source": [
    "### References\n",
    "-----\n",
    "1. https://www.youtube.com/watch?v=bntew-yoMzk "
   ]
  }
 ],
 "metadata": {
  "kernelspec": {
   "display_name": "Python 3",
   "language": "python",
   "name": "python3"
  },
  "language_info": {
   "codemirror_mode": {
    "name": "ipython",
    "version": 3
   },
   "file_extension": ".py",
   "mimetype": "text/x-python",
   "name": "python",
   "nbconvert_exporter": "python",
   "pygments_lexer": "ipython3",
   "version": "3.7.1"
  }
 },
 "nbformat": 4,
 "nbformat_minor": 2
}
