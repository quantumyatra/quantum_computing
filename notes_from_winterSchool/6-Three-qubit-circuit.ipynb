{
 "cells": [
  {
   "cell_type": "markdown",
   "metadata": {},
   "source": [
    "### Three Qubit Circuits"
   ]
  },
  {
   "cell_type": "markdown",
   "metadata": {},
   "source": [
    "###### Latest python notebook is available [here](https://github.com/q4quanta/quantum-circuits)"
   ]
  },
  {
   "cell_type": "code",
   "execution_count": 1,
   "metadata": {},
   "outputs": [],
   "source": [
    "# Useful additional packages\n",
    "import matplotlib.pyplot as plt\n",
    "%matplotlib inline\n",
    "import numpy as np\n",
    "from math import pi"
   ]
  },
  {
   "cell_type": "code",
   "execution_count": 2,
   "metadata": {},
   "outputs": [],
   "source": [
    "from qiskit import QuantumCircuit, ClassicalRegister, QuantumRegister, execute\n",
    "from qiskit.tools.visualization import circuit_drawer\n",
    "from qiskit.quantum_info import state_fidelity\n",
    "from qiskit import BasicAer\n",
    "\n",
    "backend = BasicAer.get_backend('unitary_simulator')"
   ]
  },
  {
   "cell_type": "markdown",
   "metadata": {},
   "source": [
    "### U - gates"
   ]
  },
  {
   "cell_type": "markdown",
   "metadata": {},
   "source": [
    "#### 3. Three qubit circuit"
   ]
  },
  {
   "cell_type": "markdown",
   "metadata": {},
   "source": [
    "Base states: |000>,|001>,|010>,|011>,|100>,|110>,|101>,|111>"
   ]
  },
  {
   "cell_type": "markdown",
   "metadata": {},
   "source": [
    "###### 3.1.  $I \\otimes I \\otimes U$"
   ]
  },
  {
   "cell_type": "code",
   "execution_count": 15,
   "metadata": {},
   "outputs": [
    {
     "data": {
      "image/png": "[encoded data removed]",
      "text/plain": [
       "<Figure size 301x198.66 with 1 Axes>"
      ]
     },
     "execution_count": 15,
     "metadata": {},
     "output_type": "execute_result"
    }
   ],
   "source": [
    "q = QuantumRegister(3)\n",
    "qc = QuantumCircuit(q)\n",
    "qc.u3(pi/2,pi/2,pi/2,q[0])\n",
    "qc.draw(output='mpl')"
   ]
  },
  {
   "cell_type": "code",
   "execution_count": 16,
   "metadata": {},
   "outputs": [
    {
     "data": {
      "text/plain": [
       "array([[ 0.707+0.j   ,  0.   -0.707j,  0.   +0.j   ,  0.   +0.j   ,\n",
       "         0.   +0.j   ,  0.   +0.j   ,  0.   +0.j   ,  0.   +0.j   ],\n",
       "       [ 0.   +0.707j, -0.707+0.j   ,  0.   +0.j   ,  0.   +0.j   ,\n",
       "         0.   +0.j   ,  0.   +0.j   ,  0.   +0.j   ,  0.   +0.j   ],\n",
       "       [ 0.   +0.j   ,  0.   +0.j   ,  0.707+0.j   ,  0.   -0.707j,\n",
       "         0.   +0.j   ,  0.   +0.j   ,  0.   +0.j   ,  0.   +0.j   ],\n",
       "       [ 0.   +0.j   ,  0.   +0.j   ,  0.   +0.707j, -0.707+0.j   ,\n",
       "         0.   +0.j   ,  0.   +0.j   ,  0.   +0.j   ,  0.   +0.j   ],\n",
       "       [ 0.   +0.j   ,  0.   +0.j   ,  0.   +0.j   ,  0.   +0.j   ,\n",
       "         0.707+0.j   ,  0.   -0.707j,  0.   +0.j   ,  0.   +0.j   ],\n",
       "       [ 0.   +0.j   ,  0.   +0.j   ,  0.   +0.j   ,  0.   +0.j   ,\n",
       "         0.   +0.707j, -0.707+0.j   ,  0.   +0.j   ,  0.   +0.j   ],\n",
       "       [ 0.   +0.j   ,  0.   +0.j   ,  0.   +0.j   ,  0.   +0.j   ,\n",
       "         0.   +0.j   ,  0.   +0.j   ,  0.707+0.j   ,  0.   -0.707j],\n",
       "       [ 0.   +0.j   ,  0.   +0.j   ,  0.   +0.j   ,  0.   +0.j   ,\n",
       "         0.   +0.j   ,  0.   +0.j   ,  0.   +0.707j, -0.707+0.j   ]])"
      ]
     },
     "execution_count": 16,
     "metadata": {},
     "output_type": "execute_result"
    }
   ],
   "source": [
    "job = execute(qc, backend)\n",
    "job.result().get_unitary(qc, decimals=3)"
   ]
  },
  {
   "cell_type": "markdown",
   "metadata": {},
   "source": [
    "###### 3.2.   $I \\otimes U \\otimes I$"
   ]
  },
  {
   "cell_type": "code",
   "execution_count": 17,
   "metadata": {},
   "outputs": [
    {
     "data": {
      "image/png": "[encoded data removed]",
      "text/plain": [
       "<Figure size 301x198.66 with 1 Axes>"
      ]
     },
     "execution_count": 17,
     "metadata": {},
     "output_type": "execute_result"
    }
   ],
   "source": [
    "q = QuantumRegister(3)\n",
    "qc = QuantumCircuit(q)\n",
    "qc.u3(pi/2,pi/2,pi/2,q[1])\n",
    "qc.draw(output='mpl')"
   ]
  },
  {
   "cell_type": "code",
   "execution_count": 18,
   "metadata": {},
   "outputs": [
    {
     "data": {
      "text/plain": [
       "array([[ 0.707+0.j   ,  0.   +0.j   ,  0.   -0.707j,  0.   +0.j   ,\n",
       "         0.   +0.j   ,  0.   +0.j   ,  0.   +0.j   ,  0.   +0.j   ],\n",
       "       [ 0.   +0.j   ,  0.707+0.j   ,  0.   +0.j   ,  0.   -0.707j,\n",
       "         0.   +0.j   ,  0.   +0.j   ,  0.   +0.j   ,  0.   +0.j   ],\n",
       "       [ 0.   +0.707j,  0.   +0.j   , -0.707+0.j   ,  0.   +0.j   ,\n",
       "         0.   +0.j   ,  0.   +0.j   ,  0.   +0.j   ,  0.   +0.j   ],\n",
       "       [ 0.   +0.j   ,  0.   +0.707j,  0.   +0.j   , -0.707+0.j   ,\n",
       "         0.   +0.j   ,  0.   +0.j   ,  0.   +0.j   ,  0.   +0.j   ],\n",
       "       [ 0.   +0.j   ,  0.   +0.j   ,  0.   +0.j   ,  0.   +0.j   ,\n",
       "         0.707+0.j   ,  0.   +0.j   ,  0.   -0.707j,  0.   +0.j   ],\n",
       "       [ 0.   +0.j   ,  0.   +0.j   ,  0.   +0.j   ,  0.   +0.j   ,\n",
       "         0.   +0.j   ,  0.707+0.j   ,  0.   +0.j   ,  0.   -0.707j],\n",
       "       [ 0.   +0.j   ,  0.   +0.j   ,  0.   +0.j   ,  0.   +0.j   ,\n",
       "         0.   +0.707j,  0.   +0.j   , -0.707+0.j   ,  0.   +0.j   ],\n",
       "       [ 0.   +0.j   ,  0.   +0.j   ,  0.   +0.j   ,  0.   +0.j   ,\n",
       "         0.   +0.j   ,  0.   +0.707j,  0.   +0.j   , -0.707+0.j   ]])"
      ]
     },
     "execution_count": 18,
     "metadata": {},
     "output_type": "execute_result"
    }
   ],
   "source": [
    "job = execute(qc, backend)\n",
    "job.result().get_unitary(qc, decimals=3)"
   ]
  },
  {
   "cell_type": "markdown",
   "metadata": {},
   "source": [
    "###### 3.3. $U \\otimes I \\otimes I$"
   ]
  },
  {
   "cell_type": "code",
   "execution_count": 19,
   "metadata": {},
   "outputs": [
    {
     "data": {
      "image/png": "[encoded data removed]",
      "text/plain": [
       "<Figure size 301x198.66 with 1 Axes>"
      ]
     },
     "execution_count": 19,
     "metadata": {},
     "output_type": "execute_result"
    }
   ],
   "source": [
    "q = QuantumRegister(3)\n",
    "qc = QuantumCircuit(q)\n",
    "qc.u3(pi/2,pi/2,pi/2,q[2])\n",
    "qc.draw(output='mpl')"
   ]
  },
  {
   "cell_type": "code",
   "execution_count": 20,
   "metadata": {},
   "outputs": [
    {
     "data": {
      "text/plain": [
       "array([[ 0.707+0.j   ,  0.   +0.j   ,  0.   +0.j   ,  0.   +0.j   ,\n",
       "         0.   -0.707j,  0.   +0.j   ,  0.   +0.j   ,  0.   +0.j   ],\n",
       "       [ 0.   +0.j   ,  0.707+0.j   ,  0.   +0.j   ,  0.   +0.j   ,\n",
       "         0.   +0.j   ,  0.   -0.707j,  0.   +0.j   ,  0.   +0.j   ],\n",
       "       [ 0.   +0.j   ,  0.   +0.j   ,  0.707+0.j   ,  0.   +0.j   ,\n",
       "         0.   +0.j   ,  0.   +0.j   ,  0.   -0.707j,  0.   +0.j   ],\n",
       "       [ 0.   +0.j   ,  0.   +0.j   ,  0.   +0.j   ,  0.707+0.j   ,\n",
       "         0.   +0.j   ,  0.   +0.j   ,  0.   +0.j   ,  0.   -0.707j],\n",
       "       [ 0.   +0.707j,  0.   +0.j   ,  0.   +0.j   ,  0.   +0.j   ,\n",
       "        -0.707+0.j   ,  0.   +0.j   ,  0.   +0.j   ,  0.   +0.j   ],\n",
       "       [ 0.   +0.j   ,  0.   +0.707j,  0.   +0.j   ,  0.   +0.j   ,\n",
       "         0.   +0.j   , -0.707+0.j   ,  0.   +0.j   ,  0.   +0.j   ],\n",
       "       [ 0.   +0.j   ,  0.   +0.j   ,  0.   +0.707j,  0.   +0.j   ,\n",
       "         0.   +0.j   ,  0.   +0.j   , -0.707+0.j   ,  0.   +0.j   ],\n",
       "       [ 0.   +0.j   ,  0.   +0.j   ,  0.   +0.j   ,  0.   +0.707j,\n",
       "         0.   +0.j   ,  0.   +0.j   ,  0.   +0.j   , -0.707+0.j   ]])"
      ]
     },
     "execution_count": 20,
     "metadata": {},
     "output_type": "execute_result"
    }
   ],
   "source": [
    "job = execute(qc, backend)\n",
    "job.result().get_unitary(qc, decimals=3)"
   ]
  },
  {
   "cell_type": "markdown",
   "metadata": {},
   "source": [
    "###### 3.4. $I \\otimes U \\otimes U$"
   ]
  },
  {
   "cell_type": "code",
   "execution_count": 21,
   "metadata": {},
   "outputs": [
    {
     "data": {
      "image/png": "[encoded data removed]",
      "text/plain": [
       "<Figure size 301x198.66 with 1 Axes>"
      ]
     },
     "execution_count": 21,
     "metadata": {},
     "output_type": "execute_result"
    }
   ],
   "source": [
    "q = QuantumRegister(3)\n",
    "qc = QuantumCircuit(q)\n",
    "qc.u3(pi/2,pi/2,pi/2,q[0])\n",
    "qc.u3(pi/2,pi/2,pi/2,q[1])\n",
    "qc.draw(output='mpl')"
   ]
  },
  {
   "cell_type": "code",
   "execution_count": 22,
   "metadata": {},
   "outputs": [
    {
     "data": {
      "text/plain": [
       "array([[ 0.5+0.j ,  0. -0.5j,  0. -0.5j, -0.5+0.j ,  0. +0.j ,  0. +0.j ,\n",
       "         0. +0.j ,  0. +0.j ],\n",
       "       [ 0. +0.5j, -0.5+0.j ,  0.5+0.j ,  0. +0.5j,  0. +0.j ,  0. +0.j ,\n",
       "         0. +0.j ,  0. +0.j ],\n",
       "       [ 0. +0.5j,  0.5+0.j , -0.5+0.j ,  0. +0.5j,  0. +0.j ,  0. +0.j ,\n",
       "         0. +0.j ,  0. +0.j ],\n",
       "       [-0.5+0.j ,  0. -0.5j,  0. -0.5j,  0.5+0.j ,  0. +0.j ,  0. +0.j ,\n",
       "         0. +0.j ,  0. +0.j ],\n",
       "       [ 0. +0.j ,  0. +0.j ,  0. +0.j ,  0. +0.j ,  0.5+0.j ,  0. -0.5j,\n",
       "         0. -0.5j, -0.5+0.j ],\n",
       "       [ 0. +0.j ,  0. +0.j ,  0. +0.j ,  0. +0.j ,  0. +0.5j, -0.5+0.j ,\n",
       "         0.5+0.j ,  0. +0.5j],\n",
       "       [ 0. +0.j ,  0. +0.j ,  0. +0.j ,  0. +0.j ,  0. +0.5j,  0.5+0.j ,\n",
       "        -0.5+0.j ,  0. +0.5j],\n",
       "       [ 0. +0.j ,  0. +0.j ,  0. +0.j ,  0. +0.j , -0.5+0.j ,  0. -0.5j,\n",
       "         0. -0.5j,  0.5+0.j ]])"
      ]
     },
     "execution_count": 22,
     "metadata": {},
     "output_type": "execute_result"
    }
   ],
   "source": [
    "job = execute(qc, backend)\n",
    "job.result().get_unitary(qc, decimals=3)"
   ]
  },
  {
   "cell_type": "markdown",
   "metadata": {},
   "source": [
    "###### 3.4. $U \\otimes U \\otimes U$"
   ]
  },
  {
   "cell_type": "code",
   "execution_count": 23,
   "metadata": {},
   "outputs": [
    {
     "data": {
      "image/png": "[encoded data removed]",
      "text/plain": [
       "<Figure size 301x198.66 with 1 Axes>"
      ]
     },
     "execution_count": 23,
     "metadata": {},
     "output_type": "execute_result"
    }
   ],
   "source": [
    "q = QuantumRegister(3)\n",
    "qc = QuantumCircuit(q)\n",
    "qc.u3(pi/2,pi/2,pi/2,q[0])\n",
    "qc.u3(pi/2,pi/2,pi/2,q[1])\n",
    "qc.u3(pi/2,pi/2,pi/2,q[2])\n",
    "qc.draw(output='mpl')"
   ]
  },
  {
   "cell_type": "code",
   "execution_count": 24,
   "metadata": {},
   "outputs": [
    {
     "data": {
      "text/plain": [
       "array([[ 0.354+0.j   ,  0.   -0.354j,  0.   -0.354j, -0.354+0.j   ,\n",
       "         0.   -0.354j, -0.354+0.j   , -0.354+0.j   ,  0.   +0.354j],\n",
       "       [ 0.   +0.354j, -0.354+0.j   ,  0.354+0.j   ,  0.   +0.354j,\n",
       "         0.354+0.j   ,  0.   +0.354j,  0.   -0.354j,  0.354+0.j   ],\n",
       "       [ 0.   +0.354j,  0.354+0.j   , -0.354+0.j   ,  0.   +0.354j,\n",
       "         0.354+0.j   ,  0.   -0.354j,  0.   +0.354j,  0.354+0.j   ],\n",
       "       [-0.354+0.j   ,  0.   -0.354j,  0.   -0.354j,  0.354+0.j   ,\n",
       "         0.   +0.354j, -0.354+0.j   , -0.354+0.j   ,  0.   -0.354j],\n",
       "       [ 0.   +0.354j,  0.354+0.j   ,  0.354+0.j   ,  0.   -0.354j,\n",
       "        -0.354+0.j   ,  0.   +0.354j,  0.   +0.354j,  0.354+0.j   ],\n",
       "       [-0.354+0.j   ,  0.   -0.354j,  0.   +0.354j, -0.354+0.j   ,\n",
       "         0.   -0.354j,  0.354+0.j   , -0.354+0.j   ,  0.   -0.354j],\n",
       "       [-0.354+0.j   ,  0.   +0.354j,  0.   -0.354j, -0.354+0.j   ,\n",
       "         0.   -0.354j, -0.354+0.j   ,  0.354+0.j   ,  0.   -0.354j],\n",
       "       [ 0.   -0.354j,  0.354+0.j   ,  0.354+0.j   ,  0.   +0.354j,\n",
       "         0.354+0.j   ,  0.   +0.354j,  0.   +0.354j, -0.354+0.j   ]])"
      ]
     },
     "execution_count": 24,
     "metadata": {},
     "output_type": "execute_result"
    }
   ],
   "source": [
    "job = execute(qc, backend)\n",
    "job.result().get_unitary(qc, decimals=3)"
   ]
  },
  {
   "cell_type": "markdown",
   "metadata": {},
   "source": [
    "###### 3.5. $(U \\times U) \\otimes (U \\times U) \\otimes (U \\times U)$"
   ]
  },
  {
   "cell_type": "code",
   "execution_count": 25,
   "metadata": {},
   "outputs": [
    {
     "data": {
      "image/png": "[encoded data removed]",
      "text/plain": [
       "<Figure size 421.4x198.66 with 1 Axes>"
      ]
     },
     "execution_count": 25,
     "metadata": {},
     "output_type": "execute_result"
    }
   ],
   "source": [
    "q = QuantumRegister(3)\n",
    "qc = QuantumCircuit(q)\n",
    "qc.u3(pi/2,pi/2,pi/2,q[0])\n",
    "qc.u3(pi/2,pi/2,pi/2,q[0])\n",
    "qc.u3(pi/4,pi/4,pi/4,q[1])\n",
    "qc.u3(3*pi/4,3*pi/4,3*pi/4,q[1])\n",
    "qc.u3(pi/6,pi/6,pi/6,q[2])\n",
    "qc.u3(5*pi/6,5*pi/6,5*pi/6,q[2])\n",
    "qc.draw(output='mpl')"
   ]
  },
  {
   "cell_type": "code",
   "execution_count": 26,
   "metadata": {},
   "outputs": [
    {
     "data": {
      "text/plain": [
       "array([[ 0.354+0.j   ,  0.   +0.j   ,  0.25 +0.25j ,  0.   +0.j   ,\n",
       "         0.53 +0.306j,  0.   +0.j   ,  0.158+0.592j,  0.   +0.j   ],\n",
       "       [ 0.   +0.j   ,  0.354+0.j   ,  0.   +0.j   ,  0.25 +0.25j ,\n",
       "         0.   +0.j   ,  0.53 +0.306j,  0.   +0.j   ,  0.158+0.592j],\n",
       "       [-0.25 +0.25j ,  0.   +0.j   ,  0.354+0.j   ,  0.   +0.j   ,\n",
       "        -0.592+0.158j,  0.   +0.j   ,  0.53 +0.306j,  0.   +0.j   ],\n",
       "       [ 0.   +0.j   , -0.25 +0.25j ,  0.   +0.j   ,  0.354+0.j   ,\n",
       "         0.   +0.j   , -0.592+0.158j,  0.   +0.j   ,  0.53 +0.306j],\n",
       "       [-0.53 +0.306j,  0.   +0.j   , -0.592-0.158j,  0.   +0.j   ,\n",
       "         0.354+0.j   ,  0.   +0.j   ,  0.25 +0.25j ,  0.   +0.j   ],\n",
       "       [ 0.   +0.j   , -0.53 +0.306j,  0.   +0.j   , -0.592-0.158j,\n",
       "         0.   +0.j   ,  0.354+0.j   ,  0.   +0.j   ,  0.25 +0.25j ],\n",
       "       [ 0.158-0.592j,  0.   +0.j   , -0.53 +0.306j,  0.   +0.j   ,\n",
       "        -0.25 +0.25j ,  0.   +0.j   ,  0.354+0.j   ,  0.   +0.j   ],\n",
       "       [ 0.   +0.j   ,  0.158-0.592j,  0.   +0.j   , -0.53 +0.306j,\n",
       "         0.   +0.j   , -0.25 +0.25j ,  0.   +0.j   ,  0.354+0.j   ]])"
      ]
     },
     "execution_count": 26,
     "metadata": {},
     "output_type": "execute_result"
    }
   ],
   "source": [
    "job = execute(qc, backend)\n",
    "job.result().get_unitary(qc, decimals=3)"
   ]
  },
  {
   "cell_type": "code",
   "execution_count": null,
   "metadata": {},
   "outputs": [],
   "source": []
  },
  {
   "cell_type": "code",
   "execution_count": null,
   "metadata": {},
   "outputs": [],
   "source": []
  }
 ],
 "metadata": {
  "kernelspec": {
   "display_name": "Python 3",
   "language": "python",
   "name": "python3"
  },
  "language_info": {
   "codemirror_mode": {
    "name": "ipython",
    "version": 3
   },
   "file_extension": ".py",
   "mimetype": "text/x-python",
   "name": "python",
   "nbconvert_exporter": "python",
   "pygments_lexer": "ipython3",
   "version": "3.7.5"
  }
 },
 "nbformat": 4,
 "nbformat_minor": 2
}
