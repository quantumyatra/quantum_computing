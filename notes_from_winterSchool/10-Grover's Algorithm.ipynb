{
 "cells": [
  {
   "cell_type": "markdown",
   "metadata": {},
   "source": [
    "## Grover's Algorithm"
   ]
  },
  {
   "cell_type": "code",
   "execution_count": 89,
   "metadata": {},
   "outputs": [],
   "source": [
    "# Useful additional packages\n",
    "import matplotlib.pyplot as plt\n",
    "%matplotlib inline\n",
    "import numpy as np\n",
    "from math import pi"
   ]
  },
  {
   "cell_type": "code",
   "execution_count": 90,
   "metadata": {},
   "outputs": [],
   "source": [
    "from qiskit import QuantumCircuit, ClassicalRegister, QuantumRegister, execute\n",
    "from qiskit import Aer, IBMQ\n",
    "from qiskit.compiler import transpile, assemble\n",
    "from qiskit.visualization import *\n",
    "from qiskit.providers.aer import UnitarySimulator\n",
    "from qiskit.tools.visualization import circuit_drawer\n",
    "from qiskit.quantum_info import state_fidelity\n",
    "from qiskit import BasicAer\n",
    "\n",
    "\n",
    "backend = BasicAer.get_backend('unitary_simulator')"
   ]
  },
  {
   "cell_type": "markdown",
   "metadata": {},
   "source": [
    "---------"
   ]
  },
  {
   "cell_type": "markdown",
   "metadata": {},
   "source": [
    "![img](img/ga.gif)"
   ]
  },
  {
   "cell_type": "markdown",
   "metadata": {},
   "source": [
    "### Fundamental Gates used in Grover's Algorithm"
   ]
  },
  {
   "cell_type": "markdown",
   "metadata": {},
   "source": [
    "#### H - Hadamard gate\n",
    "\n",
    "$$\n",
    "H = \n",
    "\\frac{1}{\\sqrt{2}}\n",
    "\\begin{pmatrix}\n",
    "1 & 1\\\\\n",
    "1 & -1\n",
    "\\end{pmatrix}\n",
    "$$"
   ]
  },
  {
   "cell_type": "markdown",
   "metadata": {},
   "source": [
    "#### $X$ -  Bit-flip gate\n",
    "\n",
    "$$\n",
    "X   =  \n",
    "\\begin{pmatrix}\n",
    "0 & 1\\\\\n",
    "1 & 0\n",
    "\\end{pmatrix}= u3(\\pi,0,\\pi)\n",
    "$$"
   ]
  },
  {
   "cell_type": "markdown",
   "metadata": {},
   "source": [
    "####  $C_z$ - Controlled Phase gate\n",
    "\n",
    "$$\n",
    "C_Z = \n",
    "\\begin{pmatrix}\n",
    "1 & 0 & 0 & 0\\\\\n",
    "0 & 1 & 0 & 0\\\\\n",
    "0 & 0 & 1 & 0\\\\\n",
    "0 & 0 & 0 & -1\n",
    "\\end{pmatrix}\n",
    "$$\n"
   ]
  },
  {
   "cell_type": "markdown",
   "metadata": {},
   "source": [
    "#### $Z$: Phase-flip gate\n",
    "\n",
    "$$\n",
    "Z = \n",
    "\\begin{pmatrix}\n",
    "1 & 0\\\\\n",
    "0 & -1\n",
    "\\end{pmatrix}=u1(\\pi)\n",
    "$$"
   ]
  },
  {
   "cell_type": "markdown",
   "metadata": {},
   "source": [
    "###  1. Implementing Grover's Algorithm in two qubits database"
   ]
  },
  {
   "cell_type": "code",
   "execution_count": 91,
   "metadata": {},
   "outputs": [],
   "source": [
    "qr = QuantumRegister(2)\n",
    "cr = ClassicalRegister(2)\n",
    "groverCircuit = QuantumCircuit(qr,cr)"
   ]
  },
  {
   "cell_type": "markdown",
   "metadata": {},
   "source": [
    "#### 1.1 Apply Hadamard gate to both qubit"
   ]
  },
  {
   "cell_type": "code",
   "execution_count": 92,
   "metadata": {},
   "outputs": [
    {
     "data": {
      "image/png": "[encoded data removed]",
      "text/plain": [
       "<Figure size 240.8x258.86 with 1 Axes>"
      ]
     },
     "execution_count": 92,
     "metadata": {},
     "output_type": "execute_result"
    }
   ],
   "source": [
    "groverCircuit.h(qr)\n",
    "groverCircuit.draw(output=\"mpl\")"
   ]
  },
  {
   "cell_type": "markdown",
   "metadata": {},
   "source": [
    "#### 1.1.1. Matrix element "
   ]
  },
  {
   "cell_type": "markdown",
   "metadata": {},
   "source": [
    "- H operator in product space, $H_2 = H_1 \\otimes H_1$ :\n",
    "\n",
    "$\\frac{1}{\\sqrt{2}}\\begin{bmatrix}\n",
    "    1  &  1 \\\\\n",
    "    1  & -1\n",
    "\\end{bmatrix} \\otimes \\frac{1}{\\sqrt{2}}\\begin{bmatrix}\n",
    "    1  &  1 \\\\\n",
    "    1  & -1\n",
    "\\end{bmatrix} = \\frac{1}{2} \\begin{bmatrix}\n",
    "    1  &  1  &  1  &  1 \\\\\n",
    "    1  &  -1  &  1  &  -1 \\\\\n",
    "    1  &  1  &  -1  &  -1 \\\\\n",
    "    1  &  -1  &  -1  &  1 \\\\\n",
    "\\end{bmatrix}$\n",
    "\n",
    "- Basis States in product space, $|q_1q_2> = q_1 \\otimes q_2$ : \n",
    "\n",
    "|00> = $\\begin{bmatrix}\n",
    "    1  \\\\\n",
    "    0 \\\\\n",
    "    0\\\\\n",
    "    0\n",
    "\\end{bmatrix}$ ; |01> = $\\begin{bmatrix}\n",
    "    0\\\\\n",
    "    1\\\\\n",
    "    0\\\\\n",
    "    0\n",
    "\\end{bmatrix}$ ; |10> = $\\begin{bmatrix}\n",
    "    0  \\\\\n",
    "    0 \\\\\n",
    "    1\\\\\n",
    "    0\n",
    "\\end{bmatrix}$ ; |11> = $\\begin{bmatrix}\n",
    "    0\\\\\n",
    "    0\\\\\n",
    "    0\\\\\n",
    "    1\n",
    "\\end{bmatrix}$"
   ]
  },
  {
   "cell_type": "code",
   "execution_count": 93,
   "metadata": {},
   "outputs": [
    {
     "data": {
      "text/plain": [
       "array([[ 0.5+0.j,  0.5+0.j,  0.5+0.j,  0.5+0.j],\n",
       "       [ 0.5+0.j, -0.5+0.j,  0.5+0.j, -0.5+0.j],\n",
       "       [ 0.5+0.j,  0.5+0.j, -0.5+0.j, -0.5+0.j],\n",
       "       [ 0.5+0.j, -0.5+0.j, -0.5+0.j,  0.5+0.j]])"
      ]
     },
     "execution_count": 93,
     "metadata": {},
     "output_type": "execute_result"
    }
   ],
   "source": [
    "job = execute(groverCircuit, backend)\n",
    "job.result().get_unitary(groverCircuit, decimals=3)"
   ]
  },
  {
   "cell_type": "markdown",
   "metadata": {},
   "source": [
    "#### 1.1.2. Manual approach\n",
    "\n",
    "---------\n",
    "- Initial state: |00>\n",
    "- After Hadamard Gate on first qubit: $\\frac{1}{\\sqrt{2}}|00> + \\frac{1}{\\sqrt{2}}|10>$\n",
    "- After Hadamard Gate on second qubit: $\\frac{1}{{2}}|00> + \\frac{1}{{2}}|01>  +  \\frac{1}{{2}}|10> + \\frac{1}{{2}}|11>$\n",
    "\n",
    "---------\n",
    "- This is tensor product of two Hedamard transform:\n",
    "$H|0>_A \\otimes H|0>_B$\n",
    "- i.e., $(\\frac{1}{\\sqrt{2}}|0> + \\frac{1}{\\sqrt{2}}|1>) \\otimes (\\frac{1}{\\sqrt{2}}|0> + \\frac{1}{\\sqrt{2}}|1>) = \\frac{1}{{2}}|00> + \\frac{1}{{2}}|01>  +  \\frac{1}{{2}}|10> + \\frac{1}{{2}}|11>$\n",
    "\n",
    "\n"
   ]
  },
  {
   "cell_type": "markdown",
   "metadata": {},
   "source": [
    "#### 1.1.3 Measurement"
   ]
  },
  {
   "cell_type": "code",
   "execution_count": 94,
   "metadata": {},
   "outputs": [
    {
     "data": {
      "image/png": "[encoded data removed]",
      "text/plain": [
       "<Figure size 481.6x258.86 with 1 Axes>"
      ]
     },
     "execution_count": 94,
     "metadata": {},
     "output_type": "execute_result"
    }
   ],
   "source": [
    "groverCircuit.measure(qr,cr)\n",
    "groverCircuit.draw(output=\"mpl\")"
   ]
  },
  {
   "cell_type": "code",
   "execution_count": 95,
   "metadata": {},
   "outputs": [
    {
     "data": {
      "image/png": "[encoded data removed]",
      "text/plain": [
       "<Figure size 504x360 with 1 Axes>"
      ]
     },
     "execution_count": 95,
     "metadata": {},
     "output_type": "execute_result"
    }
   ],
   "source": [
    "simulator = Aer.get_backend('qasm_simulator')\n",
    "result = execute(groverCircuit, simulator).result()\n",
    "counts = result.get_counts(groverCircuit)\n",
    "plot_histogram(counts, title='Grover Intermediate measurement')"
   ]
  },
  {
   "cell_type": "markdown",
   "metadata": {},
   "source": [
    "#### 1.2 Apply Oracle for $ w = |00>$"
   ]
  },
  {
   "cell_type": "code",
   "execution_count": 102,
   "metadata": {},
   "outputs": [
    {
     "data": {
      "image/png": "[encoded data removed]",
      "text/plain": [
       "<Figure size 421.4x258.86 with 1 Axes>"
      ]
     },
     "execution_count": 102,
     "metadata": {},
     "output_type": "execute_result"
    }
   ],
   "source": [
    "qr = QuantumRegister(2)\n",
    "cr = ClassicalRegister(2)\n",
    "groverCircuit = QuantumCircuit(qr,cr)\n",
    "groverCircuit.h(qr)\n",
    "\n",
    "'''oracle w = |00>'''\n",
    "groverCircuit.x(qr)\n",
    "groverCircuit.cz(qr[0],qr[1])\n",
    "groverCircuit.x(qr)\n",
    "\n",
    "groverCircuit.draw(output=\"mpl\")"
   ]
  },
  {
   "cell_type": "markdown",
   "metadata": {},
   "source": [
    "#### 1.2.1. Matrix element"
   ]
  },
  {
   "cell_type": "markdown",
   "metadata": {},
   "source": [
    "$\n",
    "(X \\otimes X)   =  \n",
    "\\begin{pmatrix}\n",
    "0 & 1\\\\\n",
    "1 & 0\n",
    "\\end{pmatrix} \\otimes \\begin{pmatrix}\n",
    "0 & 1\\\\\n",
    "1 & 0\n",
    "\\end{pmatrix} = \\begin{pmatrix}\n",
    "0 & 0 & 0 & 1\\\\\n",
    "0 & 0 & 1 & 0\\\\\n",
    "0 & 1 & 0 & 0\\\\\n",
    "1 & 0 & 0 & 0\\\\\n",
    "\\end{pmatrix}\n",
    "$, $C_Z = \n",
    "\\begin{pmatrix}\n",
    "1 & 0 & 0 & 0\\\\\n",
    "0 & 1 & 0 & 0\\\\\n",
    "0 & 0 & 1 & 0\\\\\n",
    "0 & 0 & 0 & -1\n",
    "\\end{pmatrix}$\n",
    "\n",
    "------------"
   ]
  },
  {
   "cell_type": "markdown",
   "metadata": {},
   "source": [
    "#### ORACLE\n",
    "$= (X \\otimes X) \\times C_z \\times (X \\otimes X)$\n",
    "\n",
    "$= \\begin{pmatrix}\n",
    "0 & 0 & 0 & 1\\\\\n",
    "0 & 0 & 1 & 0\\\\\n",
    "0 & 1 & 0 & 0\\\\\n",
    "1 & 0 & 0 & 0\\\\\n",
    "\\end{pmatrix}\n",
    "\\times\n",
    "\\begin{pmatrix}\n",
    "1 & 0 & 0 & 0\\\\\n",
    "0 & 1 & 0 & 0\\\\\n",
    "0 & 0 & 1 & 0\\\\\n",
    "0 & 0 & 0 & -1\n",
    "\\end{pmatrix}\n",
    "\\times \n",
    "\\begin{pmatrix}\n",
    "0 & 0 & 0 & 1\\\\\n",
    "0 & 0 & 1 & 0\\\\\n",
    "0 & 1 & 0 & 0\\\\\n",
    "1 & 0 & 0 & 0\\\\\n",
    "\\end{pmatrix}\n",
    "= \\begin{pmatrix}\n",
    "-1 & 0 & 0 & 0\\\\\n",
    "0 & 1 & 0 & 0\\\\\n",
    "0 & 0 & 1 & 0\\\\\n",
    "0 & 0 & 0 & 1\\\\\n",
    "\\end{pmatrix}\n",
    "$"
   ]
  },
  {
   "cell_type": "markdown",
   "metadata": {},
   "source": [
    "-----------"
   ]
  },
  {
   "cell_type": "markdown",
   "metadata": {},
   "source": [
    "#### CIRCUIT with ORCL and INIT\n",
    "\n",
    "$= ORCL \\times INIT $\n",
    "\n",
    "$= \n",
    "\\begin{pmatrix}\n",
    "-1 & 0 & 0 & 0\\\\\n",
    "0 & 1 & 0 & 0\\\\\n",
    "0 & 0 & 1 & 0\\\\\n",
    "0 & 0 & 0 & 1\\\\\n",
    "\\end{pmatrix}\n",
    "\\times\n",
    "\\frac{1}{2} \\begin{pmatrix}\n",
    "    1  &  1  &  1  &  1 \\\\\n",
    "    1  &  -1  &  1  &  -1 \\\\\n",
    "    1  &  1  &  -1  &  -1 \\\\\n",
    "    1  &  -1  &  -1  &  1 \\\\\n",
    "\\end{pmatrix}\n",
    "$"
   ]
  },
  {
   "cell_type": "code",
   "execution_count": 103,
   "metadata": {},
   "outputs": [
    {
     "data": {
      "text/plain": [
       "array([[-0.5+0.j, -0.5+0.j, -0.5+0.j, -0.5+0.j],\n",
       "       [ 0.5+0.j, -0.5+0.j,  0.5+0.j, -0.5+0.j],\n",
       "       [ 0.5+0.j,  0.5+0.j, -0.5+0.j, -0.5+0.j],\n",
       "       [ 0.5+0.j, -0.5+0.j, -0.5+0.j,  0.5+0.j]])"
      ]
     },
     "execution_count": 103,
     "metadata": {},
     "output_type": "execute_result"
    }
   ],
   "source": [
    "job = execute(groverCircuit, backend)\n",
    "job.result().get_unitary(groverCircuit, decimals=3)"
   ]
  },
  {
   "cell_type": "code",
   "execution_count": 131,
   "metadata": {},
   "outputs": [
    {
     "name": "stdout",
     "output_type": "stream",
     "text": [
      "[[-1  0  0  0]\n",
      " [ 0  1  0  0]\n",
      " [ 0  0  1  0]\n",
      " [ 0  0  0  1]]\n"
     ]
    }
   ],
   "source": [
    "INIT = 0.5*np.array([[1,1,1,1],[1,-1,1,-1],[1,1,-1,-1],[1,-1,-1,1]])\n",
    "CZ = np.array([[1,0,0,0],[0,1,0,0],[0,0,1,0],[0,0,0,-1]])\n",
    "XX = np.array([[0,0,0,1],[0,0,1,0],[0,1,0,0],[1,0,0,0]])\n",
    "\n",
    "'''Oracle'''\n",
    "ORCL = np.dot(XX,np.dot(CZ,XX))\n",
    "print(ORCL)"
   ]
  },
  {
   "cell_type": "code",
   "execution_count": 137,
   "metadata": {},
   "outputs": [
    {
     "data": {
      "text/plain": [
       "array([[-0.5, -0.5, -0.5, -0.5],\n",
       "       [ 0.5, -0.5,  0.5, -0.5],\n",
       "       [ 0.5,  0.5, -0.5, -0.5],\n",
       "       [ 0.5, -0.5, -0.5,  0.5]])"
      ]
     },
     "execution_count": 137,
     "metadata": {},
     "output_type": "execute_result"
    }
   ],
   "source": [
    "'''FUll circuit matrix so far'''\n",
    "np.dot(ORCL,INIT)"
   ]
  },
  {
   "cell_type": "markdown",
   "metadata": {},
   "source": [
    "#### 1.2.2 Manual Approach\n",
    "\n",
    "---------\n",
    "- Initial state: |00>\n",
    "- After Hadamard Gate on first qubit: $\\frac{1}{\\sqrt{2}}|00> + \\frac{1}{\\sqrt{2}}|10>$\n",
    "- After Hadamard Gate on second qubit: $\\frac{1}{{2}}|00> + \\frac{1}{{2}}|01>  +  \\frac{1}{{2}}|10> + \\frac{1}{{2}}|11>$\n",
    "- After Application of Oracle: $-\\frac{1}{{2}}|00> + \\frac{1}{{2}}|01>  +  \\frac{1}{{2}}|10> + \\frac{1}{{2}}|11>$\n",
    "\n"
   ]
  },
  {
   "cell_type": "code",
   "execution_count": 106,
   "metadata": {},
   "outputs": [
    {
     "data": {
      "image/png": "[encoded data removed]",
      "text/plain": [
       "<Figure size 662.2x258.86 with 1 Axes>"
      ]
     },
     "execution_count": 106,
     "metadata": {},
     "output_type": "execute_result"
    }
   ],
   "source": [
    "groverCircuit.measure(qr,cr)\n",
    "groverCircuit.draw(output=\"mpl\")"
   ]
  },
  {
   "cell_type": "code",
   "execution_count": 107,
   "metadata": {},
   "outputs": [
    {
     "data": {
      "image/png": "[encoded data removed]",
      "text/plain": [
       "<Figure size 504x360 with 1 Axes>"
      ]
     },
     "execution_count": 107,
     "metadata": {},
     "output_type": "execute_result"
    }
   ],
   "source": [
    "simulator = Aer.get_backend('qasm_simulator')\n",
    "result = execute(groverCircuit, simulator).result()\n",
    "counts = result.get_counts(groverCircuit)\n",
    "plot_histogram(counts, title='Grover Intermediate measurement')"
   ]
  },
  {
   "cell_type": "markdown",
   "metadata": {},
   "source": [
    "#### 1.3 Apply Grover Transform"
   ]
  },
  {
   "cell_type": "code",
   "execution_count": 139,
   "metadata": {},
   "outputs": [
    {
     "data": {
      "image/png": "[encoded data removed]",
      "text/plain": [
       "<Figure size 662.2x258.86 with 1 Axes>"
      ]
     },
     "execution_count": 139,
     "metadata": {},
     "output_type": "execute_result"
    }
   ],
   "source": [
    "qr = QuantumRegister(2)\n",
    "cr = ClassicalRegister(2)\n",
    "groverCircuit = QuantumCircuit(qr,cr)\n",
    "groverCircuit.h(qr)\n",
    "\n",
    "'''oracle w = |00>'''\n",
    "groverCircuit.x(qr)\n",
    "groverCircuit.cz(qr[0],qr[1])\n",
    "groverCircuit.x(qr)\n",
    "\n",
    "'''Grover Transform'''\n",
    "groverCircuit.h(qr)\n",
    "'''Reflection'''\n",
    "groverCircuit.z(qr)\n",
    "groverCircuit.cz(qr[0],qr[1])\n",
    "'''end of Reflection'''\n",
    "groverCircuit.h(qr)\n",
    "'''end of Grover Transform'''\n",
    "\n",
    "\n",
    "\n",
    "groverCircuit.draw(output=\"mpl\")"
   ]
  },
  {
   "cell_type": "markdown",
   "metadata": {},
   "source": [
    "#### 1.3.1 Matrix Element"
   ]
  },
  {
   "cell_type": "markdown",
   "metadata": {},
   "source": [
    "- $Z$: phase-flip gate\n",
    "\n",
    "$\n",
    "(Z \\otimes Z)   =  \n",
    "\\begin{pmatrix}\n",
    "1 & 0\\\\\n",
    "0 & -1\n",
    "\\end{pmatrix} \\otimes \\begin{pmatrix}\n",
    "1 & 0\\\\\n",
    "0 & -1\n",
    "\\end{pmatrix} = \\begin{pmatrix}\n",
    "1 & 0 & 0 & 0\\\\\n",
    "0 & -1 & 0 & 0\\\\\n",
    "0 & 0 & -1 & 0\\\\\n",
    "0 & 0 & 0 & 1\\\\\n",
    "\\end{pmatrix}\n",
    "$"
   ]
  },
  {
   "cell_type": "markdown",
   "metadata": {},
   "source": [
    "##### GROVER TRANSFORM (GT) \n",
    "\n",
    "$= (H \\otimes H) \\times Cz \\times (Z \\otimes Z)  \\times (H \\otimes H)$\n",
    "\n",
    "$ =  \n",
    "\\frac{1}{2} \\begin{pmatrix}\n",
    "    1  &  1  &  1  &  1 \\\\\n",
    "    1  &  -1  &  1  &  -1 \\\\\n",
    "    1  &  1  &  -1  &  -1 \\\\\n",
    "    1  &  -1  &  -1  &  1 \\\\\n",
    "\\end{pmatrix}\n",
    "\\times\n",
    "\\begin{pmatrix}\n",
    "1 & 0 & 0 & 0\\\\\n",
    "0 & 1 & 0 & 0\\\\\n",
    "0 & 0 & 1 & 0\\\\\n",
    "0 & 0 & 0 & -1\n",
    "\\end{pmatrix}\n",
    "\\times\n",
    "\\begin{pmatrix}\n",
    "1 & 0 & 0 & 0\\\\\n",
    "0 & -1 & 0 & 0\\\\\n",
    "0 & 0 & -1 & 0\\\\\n",
    "0 & 0 & 0 & 1\\\\\n",
    "\\end{pmatrix}\n",
    "\\times\n",
    "\\frac{1}{2} \\begin{pmatrix}\n",
    "    1  &  1  &  1  &  1 \\\\\n",
    "    1  &  -1  &  1  &  -1 \\\\\n",
    "    1  &  1  &  -1  &  -1 \\\\\n",
    "    1  &  -1  &  -1  &  1 \\\\\n",
    "\\end{pmatrix}$\n",
    "\n",
    "$= \\begin{pmatrix}\n",
    "    -\\frac{1}{2}  &  \\frac{1}{2}  &  \\frac{1}{2}  &  \\frac{1}{2} \\\\\n",
    "    \\frac{1}{2}  &  -\\frac{1}{2}  &  \\frac{1}{2}  &  \\frac{1}{2} \\\\\n",
    "    \\frac{1}{2}  &  \\frac{1}{2}  &  -\\frac{1}{2}  &  \\frac{1}{2} \\\\\n",
    "    \\frac{1}{2}  &  \\frac{1}{2}  &  \\frac{1}{2}  &  -\\frac{1}{2} \\\\\n",
    "\\end{pmatrix}\n",
    "$\n",
    "\n",
    "--------------\n",
    "\n",
    "##### CIRCUIT with GT, ORCL and INIT\n",
    "$ = GT \\times ORCL \\times INIT$\n",
    "\n",
    "$ = \\begin{pmatrix}\n",
    "    -\\frac{1}{2}  &  \\frac{1}{2}  &  \\frac{1}{2}  &  \\frac{1}{2} \\\\\n",
    "    \\frac{1}{2}  &  -\\frac{1}{2}  &  \\frac{1}{2}  &  \\frac{1}{2} \\\\\n",
    "    \\frac{1}{2}  &  \\frac{1}{2}  &  -\\frac{1}{2}  &  \\frac{1}{2} \\\\\n",
    "    \\frac{1}{2}  &  \\frac{1}{2}  &  \\frac{1}{2}  &  -\\frac{1}{2} \\\\\n",
    "\\end{pmatrix}\n",
    "\\times \n",
    "\\begin{pmatrix}\n",
    "-1 & 0 & 0 & 0\\\\\n",
    "0 & 1 & 0 & 0\\\\\n",
    "0 & 0 & 1 & 0\\\\\n",
    "0 & 0 & 0 & 1\\\\\n",
    "\\end{pmatrix}\n",
    "\\times\n",
    "\\frac{1}{2} \\begin{pmatrix}\n",
    "    1  &  1  &  1  &  1 \\\\\n",
    "    1  &  -1  &  1  &  -1 \\\\\n",
    "    1  &  1  &  -1  &  -1 \\\\\n",
    "    1  &  -1  &  -1  &  1 \\\\\n",
    "\\end{pmatrix}$\n",
    "\n",
    "$=\\begin{pmatrix}\n",
    "1 & 0 & 0 & 0\\\\\n",
    "0 & 0 & -1 & 0\\\\\n",
    "0 & -1 & 0 & 0\\\\\n",
    "0 & 0 & 0 & -1\\\\\n",
    "\\end{pmatrix}$"
   ]
  },
  {
   "cell_type": "code",
   "execution_count": 138,
   "metadata": {},
   "outputs": [
    {
     "data": {
      "text/plain": [
       "array([[ 1.+0.j,  0.+0.j,  0.+0.j,  0.+0.j],\n",
       "       [ 0.+0.j,  0.+0.j, -1.+0.j,  0.+0.j],\n",
       "       [ 0.+0.j, -1.+0.j,  0.+0.j,  0.+0.j],\n",
       "       [ 0.+0.j,  0.+0.j,  0.+0.j, -1.+0.j]])"
      ]
     },
     "execution_count": 138,
     "metadata": {},
     "output_type": "execute_result"
    }
   ],
   "source": [
    "job = execute(groverCircuit, backend)\n",
    "job.result().get_unitary(groverCircuit, decimals=3)"
   ]
  },
  {
   "cell_type": "code",
   "execution_count": 134,
   "metadata": {},
   "outputs": [
    {
     "name": "stdout",
     "output_type": "stream",
     "text": [
      "[[-0.5  0.5  0.5  0.5]\n",
      " [ 0.5 -0.5  0.5  0.5]\n",
      " [ 0.5  0.5 -0.5  0.5]\n",
      " [ 0.5  0.5  0.5 -0.5]]\n"
     ]
    }
   ],
   "source": [
    "HH = 0.5*np.array([[1,1,1,1],[1,-1,1,-1],[1,1,-1,-1],[1,-1,-1,1]])\n",
    "ZZ = np.array([[1,0,0,0],[0,-1,0,0],[0,0,-1,0],[0,0,0,1]])\n",
    "\n",
    "'''Grover Transform'''\n",
    "GT =  np.dot(HH,np.dot(CZ,np.dot(ZZ,HH)))\n",
    "print(GT)"
   ]
  },
  {
   "cell_type": "code",
   "execution_count": 136,
   "metadata": {},
   "outputs": [
    {
     "data": {
      "text/plain": [
       "array([[ 1.,  0.,  0.,  0.],\n",
       "       [ 0.,  0., -1.,  0.],\n",
       "       [ 0., -1.,  0.,  0.],\n",
       "       [ 0.,  0.,  0., -1.]])"
      ]
     },
     "execution_count": 136,
     "metadata": {},
     "output_type": "execute_result"
    }
   ],
   "source": [
    "'''FUll circut matrix'''\n",
    "np.dot(INIT,np.dot(ORCL,GT))"
   ]
  },
  {
   "cell_type": "markdown",
   "metadata": {},
   "source": [
    "#### 1.4 Manual Approach"
   ]
  },
  {
   "cell_type": "markdown",
   "metadata": {},
   "source": [
    "---------\n",
    "- Initial state: |00>\n",
    "- After Hadamard Gate on first qubit: $\\frac{1}{\\sqrt{2}}|00> + \\frac{1}{\\sqrt{2}}|10>$\n",
    "- After Hadamard Gate on second qubit: $\\frac{1}{{2}}|00> + \\frac{1}{{2}}|01>  +  \\frac{1}{{2}}|10> + \\frac{1}{{2}}|11>$\n",
    "- After Application of Oracle for $|00>$: $-\\frac{1}{{2}}|00> + \\frac{1}{{2}}|01>  +  \\frac{1}{{2}}|10> + \\frac{1}{{2}}|11>$\n",
    "- After Application of Grover Transformation$: $1.0|00> + 0.0|01>  +  0.0|10> + 0.0|11>$\n"
   ]
  },
  {
   "cell_type": "markdown",
   "metadata": {},
   "source": [
    "#### 1.5. Measurement"
   ]
  },
  {
   "cell_type": "code",
   "execution_count": 110,
   "metadata": {},
   "outputs": [
    {
     "name": "stderr",
     "output_type": "stream",
     "text": [
      "No measurements in circuit \"circuit42\": count data will return all zeros.\n"
     ]
    },
    {
     "data": {
      "image/png": "[encoded data removed]",
      "text/plain": [
       "<Figure size 504x360 with 1 Axes>"
      ]
     },
     "execution_count": 110,
     "metadata": {},
     "output_type": "execute_result"
    }
   ],
   "source": [
    "simulator = Aer.get_backend('qasm_simulator')\n",
    "result = execute(groverCircuit, simulator).result()\n",
    "counts = result.get_counts(groverCircuit)\n",
    "plot_histogram(counts, title='Grover Intermediate measurement')"
   ]
  }
 ],
 "metadata": {
  "kernelspec": {
   "display_name": "Python 3",
   "language": "python",
   "name": "python3"
  },
  "language_info": {
   "codemirror_mode": {
    "name": "ipython",
    "version": 3
   },
   "file_extension": ".py",
   "mimetype": "text/x-python",
   "name": "python",
   "nbconvert_exporter": "python",
   "pygments_lexer": "ipython3",
   "version": "3.7.5"
  }
 },
 "nbformat": 4,
 "nbformat_minor": 2
}
